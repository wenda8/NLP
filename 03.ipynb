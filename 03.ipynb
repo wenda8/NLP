{
 "cells": [
  {
   "cell_type": "code",
   "execution_count": 4,
   "metadata": {},
   "outputs": [
    {
     "name": "stderr",
     "output_type": "stream",
     "text": [
      "Setting `pad_token_id` to `eos_token_id`:50256 for open-end generation.\n"
     ]
    },
    {
     "name": "stdout",
     "output_type": "stream",
     "text": [
      "After your workout, remember to give yourself plenty of water to start.\n",
      "After your workout, remember to drink plenty of water!\n",
      "After your workout, remember to stay hydrated and in control.\n"
     ]
    }
   ],
   "source": [
    "from transformers import pipeline\n",
    "from sentence_transformers import SentenceTransformer, util\n",
    "\n",
    "generator = pipeline('text-generation', model='gpt2')\n",
    "base_sentence = \"After your workout, remember to\"\n",
    "generated_texts = generator(base_sentence, max_length=30, num_return_sequences=1000)\n",
    "generated_sentences = [text['generated_text'].split('\\n')[0] for text in generated_texts]\n",
    "\n",
    "model = SentenceTransformer('all-MiniLM-L6-v2')\n",
    "original_sentence_embedding = model.encode(\"After your workout, remember to focus on maintaining a good water balance.\", convert_to_tensor=True)\n",
    "similar_sentences = []\n",
    "\n",
    "for sentence in generated_sentences:\n",
    "    generated_sentence_embedding = model.encode(sentence, convert_to_tensor=True)\n",
    "    similarity = util.pytorch_cos_sim(original_sentence_embedding, generated_sentence_embedding)\n",
    "    similar_sentences.append((sentence, similarity.item()))\n",
    "\n",
    "similar_sentences = sorted(similar_sentences, key=lambda x: x[1], reverse=True)[:3]\n",
    "\n",
    "for sentence, _ in similar_sentences:\n",
    "    print(sentence)"
   ]
  }
 ],
 "metadata": {
  "kernelspec": {
   "display_name": "Python 3",
   "language": "python",
   "name": "python3"
  },
  "language_info": {
   "codemirror_mode": {
    "name": "ipython",
    "version": 3
   },
   "file_extension": ".py",
   "mimetype": "text/x-python",
   "name": "python",
   "nbconvert_exporter": "python",
   "pygments_lexer": "ipython3",
   "version": "3.10.9"
  }
 },
 "nbformat": 4,
 "nbformat_minor": 2
}
